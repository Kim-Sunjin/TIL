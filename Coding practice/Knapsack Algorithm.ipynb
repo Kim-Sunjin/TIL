{
 "cells": [
  {
   "cell_type": "code",
   "execution_count": 3,
   "source": [
    "def knapsack(K,wt,values, N):\r\n",
    "    V = [[0 for i in range(K+1)] for i in range(N+1)]\r\n",
    "    for i in range(N+1):\r\n",
    "        for k in range(K+1):\r\n",
    "            if i==0 or k==0:\r\n",
    "                V[i][k] = 0\r\n",
    "            elif wt[i-1]<= k:\r\n",
    "                V[i][k] = max(values[i-1]+V[i-1][k-wt[i-1]], V[i-1][k])\r\n",
    "            else:\r\n",
    "                V[i][k]=V[i-1][k]\r\n",
    "    return V[N][K]"
   ],
   "outputs": [],
   "metadata": {}
  },
  {
   "cell_type": "code",
   "execution_count": null,
   "source": [
    "N, K = map(int, input().split())\r\n",
    "wt = []\r\n",
    "values = []\r\n",
    "for i in range(N):\r\n",
    "    w, v = map(int, input().split())\r\n",
    "    wt.append(w)\r\n",
    "    values.append(v)\r\n",
    "result =knapsack(K, wt, values,N)\r\n",
    "print(int(result))"
   ],
   "outputs": [],
   "metadata": {}
  }
 ],
 "metadata": {
  "orig_nbformat": 4,
  "language_info": {
   "name": "python",
   "version": "3.8.10",
   "mimetype": "text/x-python",
   "codemirror_mode": {
    "name": "ipython",
    "version": 3
   },
   "pygments_lexer": "ipython3",
   "nbconvert_exporter": "python",
   "file_extension": ".py"
  },
  "kernelspec": {
   "name": "python3",
   "display_name": "Python 3.8.10 64-bit ('base': conda)"
  },
  "interpreter": {
   "hash": "acbbfebbbdf654efa85aa18169a14b54796a806b8c18a3c243660030e08aa454"
  }
 },
 "nbformat": 4,
 "nbformat_minor": 2
}